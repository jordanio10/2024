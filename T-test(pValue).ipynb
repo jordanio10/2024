{
 "cells": [
  {
   "cell_type": "code",
   "execution_count": null,
   "metadata": {},
   "outputs": [],
   "source": [
    "import numpy as np\n",
    "from scipy import stats\n",
    "import pandas as pd"
   ]
  },
  {
   "cell_type": "code",
   "execution_count": null,
   "metadata": {},
   "outputs": [],
   "source": [
    "df = pd.read_csv(\"User-PageView.csv\")"
   ]
  },
  {
   "cell_type": "code",
   "execution_count": null,
   "metadata": {},
   "outputs": [],
   "source": [
    "#read the data from the table\n",
    "df.head()\n",
    "\n",
    "#data\n",
    "# user_id   Variant_name    CountPageView\n",
    "# 2120      var_1_ac        0.0\n",
    "# 42383     var_1_ac        2.0\n",
    "# 98231     var_1_ac        0.0\n",
    "# 8813      var_2_ac        1.2\n",
    "# 9021      var_3_ac        2.1"
   ]
  },
  {
   "cell_type": "code",
   "execution_count": null,
   "metadata": {},
   "outputs": [],
   "source": [
    "stats.ttest_ind(df[df['variant_name']=='control_variant']['searchpv'], df[df['variant_name']=='variant_2_is']['searchpv'])\n",
    "# result\n",
    "# Ttest_indResult(statistic=3.133802422037737, pvalue=0.0017257514913248282)"
   ]
  }
 ],
 "metadata": {
  "language_info": {
   "name": "python"
  }
 },
 "nbformat": 4,
 "nbformat_minor": 2
}
